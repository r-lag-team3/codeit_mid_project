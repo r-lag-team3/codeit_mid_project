{
 "cells": [
  {
   "cell_type": "code",
   "execution_count": 4,
   "id": "74fe3805",
   "metadata": {},
   "outputs": [
    {
     "name": "stdout",
     "output_type": "stream",
     "text": [
      "실험 설정 파일을 불러옵니다: {'version': '1.0', 'test_name': 'dw_ex_1', 'embedding_model': 'text-embedding-3-small', 'llm_model': 'gpt-4.1-mini', 'chunk_size': 300, 'chunk_overlap': 30, 'top_k': 3}\n",
      "청킹 문서를 로드 완료하였습니다. 문서 개수: 37350\n",
      "임베딩 모델을 설정하였습니다: text-embedding-3-small\n",
      "FAISS 인덱스를 불러왔습니다\n",
      "retriever를 생성하였습니다. Top K: 3\n",
      "RAG Chain을 생성하였습니다. LLM 모델: gpt-4.1-mini\n",
      "질의 테스트를 시작합니다\n"
     ]
    },
    {
     "name": "stdin",
     "output_type": "stream",
     "text": [
      "질의를 입력하세요 (종료하려면 'exit' 입력):  서울에 관련된 제안요청서에 대해 요약해줘\n"
     ]
    },
    {
     "name": "stdout",
     "output_type": "stream",
     "text": [
      "\n",
      "==============================\n",
      "Q. 서울에 관련된 제안요청서에 대해 요약해줘\n",
      "\n",
      "A. 서울시청 공간정보담당관에서 발주한 제안요청서에 따르면, 입찰 참가를 위해 다음 서류를 제출해야 합니다:\n",
      "\n",
      "1. 입찰참가 공문 1부 (대표자 인감 날인)\n",
      "2. 입찰참가신청서 1부\n",
      "3. 가격입찰서 및 가격제안서 각 1부 ([별지서식 6], [별지서식 7]에 작성 후 밀봉하고 대표자 인감 날인)\n",
      "4. 제안서 평가본 10부 (원본 1부, 평가본 및 평가본 요약서 각 9부 포함)  \n",
      "   - 제안서에는 회사명, 회사 로고, 대표자 성명이 표지 및 내용에 포함되어야 하며  \n",
      "   - 발표자료는 제안서 제출 시 함께 제출해야 합니다.\n",
      "\n",
      "제안요청 내용은 서울시청 공간정보담당관(서소문별관 1동 3층)에서 관리하며, 관련 절차와 서류 제출을 통해 입찰에 참여할 수 있습니다.\n",
      "\n",
      "응답이 저장되었습니다.\n"
     ]
    },
    {
     "name": "stdin",
     "output_type": "stream",
     "text": [
      "질의를 입력하세요 (종료하려면 'exit' 입력):  exit\n"
     ]
    },
    {
     "name": "stdout",
     "output_type": "stream",
     "text": [
      "질의 테스트를 종료합니다.\n"
     ]
    }
   ],
   "source": [
    "from utils import experiment\n",
    "import os\n",
    "\n",
    "os.environ[\"OPENAI_API_KEY\"] = ''\n",
    "\n",
    "experiment.experiment(experiment_name=\"dw_ex_1\", version=\"1.0\")"
   ]
  },
  {
   "cell_type": "code",
   "execution_count": 5,
   "id": "4a505168-9129-4f24-830a-a5aa3f27720e",
   "metadata": {},
   "outputs": [
    {
     "name": "stdout",
     "output_type": "stream",
     "text": [
      "\n",
      "===== 질의 1 평가 중 =====\n",
      "정확성: 4/5 - 응답은 대부분 정확하지만, 제안요청서의 구체적인 내용보다는 제출 서류에 대한 정보에 집중되어 있어 일부 세부정보가 부족합니다.\n",
      "\n",
      "근거 기반성: 5/5 - 응답은 명확히 참고 문서에 기반하고 있으며, 문서에서 제공된 정보를 충실히 반영하고 있습니다.\n",
      "\n",
      "명확성: 5/5 - 응답은 간결하고 이해하기 쉬우며, 필요한 정보를 명확하게 전달하고 있습니다.\n"
     ]
    }
   ],
   "source": [
    "import sys\n",
    "sys.path.append('./utils')  # evaluate.py가 utils 폴더에 있다면\n",
    "\n",
    "import evaluate\n",
    "\n",
    "# 평가 진행 (경로만 지정)\n",
    "evaluate.evaluate_from_jsonl(\"./experiment/dw_ex_1/dw_ex_1.jsonl\")"
   ]
  }
 ],
 "metadata": {
  "kernelspec": {
   "display_name": "Python (myenv)",
   "language": "python",
   "name": "myenv"
  },
  "language_info": {
   "codemirror_mode": {
    "name": "ipython",
    "version": 3
   },
   "file_extension": ".py",
   "mimetype": "text/x-python",
   "name": "python",
   "nbconvert_exporter": "python",
   "pygments_lexer": "ipython3",
   "version": "3.12.3"
  }
 },
 "nbformat": 4,
 "nbformat_minor": 5
}
