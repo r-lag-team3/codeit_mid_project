{
 "cells": [
  {
   "cell_type": "code",
   "execution_count": null,
   "id": "b812fb78",
   "metadata": {},
   "outputs": [
    {
     "name": "stdout",
     "output_type": "stream",
     "text": [
      "실험 설정 파일을 불러옵니다: {'version': '1.0', 'test_name': 'test_experiment', 'embedding_model': 'text-embedding-3-small', 'llm_model': 'gpt-4.1-mini', 'chunk_size': 100, 'chunk_overlap': 10, 'top_k': 1}\n",
      "청킹 문서를 로드 완료하였습니다.\n",
      "청킹된 문서의 개수: 96397\n",
      "임베딩 모델을 설정하였습니다: text-embedding-3-small\n",
      "FAISS 인덱스를 불러왔습니다\n",
      "retriever를 생성하였습니다. Top K: 1\n",
      "RAG Chain을 생성하였습니다. LLM 모델: gpt-4.1-mini\n",
      "질의 테스트를 시작합니다\n",
      "Q. 버스에 관련된 내용 보여줘 \n",
      "\n",
      "A. 문서에 따르면 버스와 관련된 내용은 다음과 같습니다.\n",
      "\n",
      "- 기존 버스정보수집 및 버스정보제공을 위한 통신방식 현황  \n",
      "- 버스정류장 및 BIT(버스정보단말기) 정보표출 유형  \n",
      "- 버스 운행 관련 기초데이터 분석 (버스노선, 버스정류소, 쉘터유형 등)\n",
      "\n",
      "이 내용들은 버스 운행과 관련된 데이터 수집, 정보 제공 방식, 그리고 버스정류장 및 노선 등의 기초 정보를 포함하고 있습니다.\n",
      "\n",
      "질의 테스트를 종료합니다.\n"
     ]
    }
   ],
   "source": [
    "from utils import experiment\n",
    "import os\n",
    "\n",
    "os.environ[\"OPENAI_API_KEY\"] = \"api key\"\n",
    "\n",
    "experiment.experiment(experiment_name=\"test_experiment\", version=\"1.0\")"
   ]
  },
  {
   "cell_type": "code",
   "execution_count": null,
   "id": "74fe3805",
   "metadata": {},
   "outputs": [],
   "source": []
  }
 ],
 "metadata": {
  "kernelspec": {
   "display_name": "Python 3",
   "language": "python",
   "name": "python3"
  },
  "language_info": {
   "codemirror_mode": {
    "name": "ipython",
    "version": 3
   },
   "file_extension": ".py",
   "mimetype": "text/x-python",
   "name": "python",
   "nbconvert_exporter": "python",
   "pygments_lexer": "ipython3",
   "version": "3.10.1"
  }
 },
 "nbformat": 4,
 "nbformat_minor": 5
}
