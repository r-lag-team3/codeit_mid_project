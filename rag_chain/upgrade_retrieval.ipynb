{
 "cells": [
  {
   "cell_type": "code",
   "execution_count": null,
   "id": "a0ffb736",
   "metadata": {},
   "outputs": [],
   "source": [
    "import numpy as np\n",
    "import faiss\n",
    "from langchain.embeddings import OpenAIEmbeddings\n",
    "from langchain.schema import Document\n",
    "from langchain.vectorstores import FAISS\n",
    "from sentence_transformers import CrossEncoder\n",
    "import openai"
   ]
  },
  {
   "cell_type": "code",
   "execution_count": null,
   "id": "51958141",
   "metadata": {},
   "outputs": [],
   "source": [
    "# 1차 Recall - FAISS 기반 semantic search\n",
    "def semantic_search(query, chunks, embedding_model, k=50):\n",
    "    db = FAISS.from_documents(chunks, embedding_model)\n",
    "    retriever = db.as_retriever(search_kwargs={\"k\": k})\n",
    "    return retriever(query)"
   ]
  },
  {
   "cell_type": "code",
   "execution_count": null,
   "id": "c30814ec",
   "metadata": {},
   "outputs": [],
   "source": [
    "# 키워드 필터 함수\n",
    "def keyword_filter(docs, keywords):\n",
    "    if not keywords:\n",
    "        return docs\n",
    "    filtered = []\n",
    "    for doc in docs:\n",
    "        if any(kw.lower() in doc.page_content.lower() for kw in keywords):\n",
    "            filtered.append(doc)\n",
    "    return filtered"
   ]
  },
  {
   "cell_type": "code",
   "execution_count": null,
   "id": "73d1cb83",
   "metadata": {},
   "outputs": [],
   "source": [
    "# Cross-Encoder 기반 Re-Ranking\n",
    "def rerank(query, docs, top_k=10, model_name=\"cross-encoder/ms-marco-MiniLM-L-6-v2\"):\n",
    "    cross_encoder = CrossEncoder(model_name)\n",
    "    pairs = [[query, doc.page_content] for doc in docs]\n",
    "    scores = cross_encoder.predict(pairs)\n",
    "    scored_docs = sorted(zip(docs, scores), key=lambda x: x[1], reverse=True)\n",
    "    return [doc for doc, score in scored_docs[:top_k]]"
   ]
  },
  {
   "cell_type": "code",
   "execution_count": null,
   "id": "471b8189",
   "metadata": {},
   "outputs": [],
   "source": [
    "# LLM 기반 3줄 요약(Map-Reduce)\n",
    "def summarize_chunks(docs, question, openai_api_key, model=\"gpt-4.1-mini\"):\n",
    "    openai.api_key = openai_api_key\n",
    "    summaries = []\n",
    "    for doc in docs:\n",
    "        prompt = f\"다음 내용을 3줄로 요약해 주세요. 질문: {question}\\n\\n{doc.page_content}\"\n",
    "        response = openai.ChatCompletion.create(\n",
    "            model=model,\n",
    "            messages=[{\"role\": \"user\", \"content\": prompt}],\n",
    "            max_tokens=256,\n",
    "            temperature=0.5,\n",
    "        )\n",
    "        summary = response['choices'][0]['message']['content']\n",
    "        summaries.append(summary)\n",
    "    # Reduce: 전체 요약\n",
    "    final_prompt = f\"아래 요약들을 종합해서 3줄로 다시 요약해 주세요.\\n\\n\" + \"\\n\\n\".join(summaries)\n",
    "    final_response = openai.ChatCompletion.create(\n",
    "        model=model,\n",
    "        messages=[{\"role\": \"user\", \"content\": final_prompt}],\n",
    "        max_tokens=256,\n",
    "        temperature=0.5,\n",
    "    )\n",
    "    return final_response['choices'][0]['message']['content']"
   ]
  },
  {
   "cell_type": "code",
   "execution_count": null,
   "id": "3b2aa4c9",
   "metadata": {},
   "outputs": [],
   "source": [
    "# 전체 파이프라인 함수\n",
    "def rag_pipeline(query, chunks, embedding_model, openai_api_key, keywords=None):\n",
    "    # 1차 Recall\n",
    "    candidates = semantic_search(query, chunks, embedding_model, k=50)\n",
    "    # 키워드 필터\n",
    "    filtered = keyword_filter(candidates, keywords)\n",
    "    # 2차 Re-Ranking\n",
    "    reranked = rerank(query, filtered, top_k=10)\n",
    "    # LLM Map-Reduce 요약\n",
    "    summary = summarize_chunks(reranked, query, openai_api_key)\n",
    "    return summary"
   ]
  },
  {
   "cell_type": "code",
   "execution_count": null,
   "id": "296f70e5",
   "metadata": {},
   "outputs": [],
   "source": [
    "# 질문 입력 및 실행\n",
    "question = input(\"질문을 입력하세요: \")\n",
    "keywords = input(\"필터링할 키워드를 ,로 구분해서 입력하세요(없으면 엔터): \").split(\",\") if input(\"키워드 필터를 사용하시겠습니까? (y/n): \") == \"y\" else None\n",
    "openai_api_key = \"...\"  # OpenAI API 키 입력\n",
    "\n",
    "result = rag_pipeline(question, chunks, embedding_model, openai_api_key, keywords)\n",
    "print(\"최종 3줄 요약 결과:\\n\", result)"
   ]
  }
 ],
 "metadata": {
  "language_info": {
   "name": "python"
  }
 },
 "nbformat": 4,
 "nbformat_minor": 5
}
