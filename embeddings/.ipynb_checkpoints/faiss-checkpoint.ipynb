{
 "cells": [
  {
   "cell_type": "markdown",
   "id": "f2e244af-e354-4695-9615-97b7bd590008",
   "metadata": {},
   "source": [
    "## 이거는 보통 제가 그냥 불러와서 쓰는 코드"
   ]
  },
  {
   "cell_type": "code",
   "execution_count": null,
   "id": "314534c8-3246-400a-920f-5ad0a4472c33",
   "metadata": {},
   "outputs": [],
   "source": [
    "import openai\n",
    "from langchain.embeddings import OpenAIEmbeddings\n",
    "from langchain.vectorstores import FAISS\n",
    "\n",
    "embedding_model = OpenAIEmbeddings(model=\"text-embedding-3-small\")\n",
    "db = FAISS.from_documents(chunks, embedding_model)\n",
    "retriever = db.as_retriever(search_kwargs={\"k\": 3})"
   ]
  },
  {
   "cell_type": "markdown",
   "id": "bc485598-d2fe-4db3-9ccc-8dc81c5a6a19",
   "metadata": {},
   "source": [
    "## 아래는 용원님이 만들어서쓰신 CustomFAISS 긁어온거고 변경할만한 건 유클리드 거리인 L2를 코사인 거리로 변경 가능(원하시면)"
   ]
  },
  {
   "cell_type": "code",
   "execution_count": null,
   "id": "7cc2b60d-fb15-45dc-b76a-14174a1db45e",
   "metadata": {},
   "outputs": [],
   "source": [
    "import faiss\n",
    "import numpy as np\n",
    "from typing import List\n",
    "from langchain.schema import Document\n",
    "\n",
    "class CustomFAISS:\n",
    "    def __init__(self, index, documents, embedding_model):\n",
    "        self.index = index\n",
    "        self.documents = documents\n",
    "        self.embedding_model = embedding_model\n",
    "\n",
    "    @classmethod\n",
    "    def from_documents(cls, documents: List[Document], embedding_model):\n",
    "        texts = [doc.page_content for doc in documents]\n",
    "\n",
    "        embeddings = embedding_model.embed_documents(texts)\n",
    "        embeddings_np = np.array(embeddings).astype(\"float32\")\n",
    "\n",
    "        dim = embeddings_np.shape[1]\n",
    "        index = faiss.IndexFlatL2(dim)  # L2 거리 기반 인덱스\n",
    "        index.add(embeddings_np)\n",
    "\n",
    "        return cls(index, documents, embedding_model)\n",
    "\n",
    "    def as_retriever(self, top_k: int = 3):\n",
    "        def retriever_fn(query: str) -> List[Document]:\n",
    "            query_vec = self.embedding_model.embed_query(query)\n",
    "            query_np = np.array(query_vec).astype(\"float32\").reshape(1, -1)\n",
    "            distances, indices = self.index.search(query_np, top_k)\n",
    "            return [self.documents[i] for i in indices[0] if i != -1]\n",
    "        return retriever_fn"
   ]
  },
  {
   "cell_type": "code",
   "execution_count": null,
   "id": "665d18f7-ce71-4984-acd1-a0816ef3a85c",
   "metadata": {},
   "outputs": [],
   "source": [
    "custom_db = CustomFAISS.from_documents(chunks, embedding_model)\n",
    "retriever = custom_db.as_retriever(top_k=5)\n",
    "\n",
    "results = retriever(\"RAG에서 retriever의 역할이 뭐야?\")"
   ]
  }
 ],
 "metadata": {
  "kernelspec": {
   "display_name": "Python (myenv)",
   "language": "python",
   "name": "myenv"
  },
  "language_info": {
   "codemirror_mode": {
    "name": "ipython",
    "version": 3
   },
   "file_extension": ".py",
   "mimetype": "text/x-python",
   "name": "python",
   "nbconvert_exporter": "python",
   "pygments_lexer": "ipython3",
   "version": "3.12.3"
  }
 },
 "nbformat": 4,
 "nbformat_minor": 5
}
